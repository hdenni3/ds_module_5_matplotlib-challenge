{
 "cells": [
  {
   "attachments": {},
   "cell_type": "markdown",
   "metadata": {},
   "source": [
    "# Pymaceuticals Inc.\n",
    "---\n",
    "\n",
    "### Analysis\n",
    "\n",
    "- This analysis was to compare the effects different cancer drugs had on the tumors on mice in terms of the tumor volume and weight. The drug Capomulin was to be specifically highlighted to indentify if there was a positive correlation between the use of Capomulin in mice and the effects on the reduction of the tumor volume and weight. After merging the two data sets given and cleaning the data to remove a duplicate mouse. On the data visualizations Capomulin has a positive correalation on the use of the drug to the reduction of tumor volume and weight. The only other drug to compare was Ketapril.\n",
    " "
   ]
  },
  {
   "cell_type": "code",
   "execution_count": null,
   "metadata": {},
   "outputs": [],
   "source": [
    "# Dependencies and Setup\n",
    "import matplotlib.pyplot as plt\n",
    "import pandas as pd\n",
    "import scipy.stats as st\n",
    "\n",
    "# Study data files\n",
    "mouse_metadata_path = \"data/Mouse_metadata.csv\"\n",
    "study_results_path = \"data/Study_results.csv\"\n",
    "\n",
    "# Read the mouse data and the study results\n",
    "mouse_metadata = pd.read_csv(mouse_metadata_path)\n",
    "study_results = pd.read_csv(study_results_path)\n",
    "\n",
    "# Combine the data into a single DataFrame\n",
    "df = pd.merge(study_results, mouse_metadata, on=\"Mouse ID\", how=\"left\")\n",
    "\n",
    "# Display the data table for preview\n",
    "df.head()"
   ]
  },
  {
   "cell_type": "code",
   "execution_count": null,
   "metadata": {},
   "outputs": [],
   "source": [
    "print(mouse_metadata.shape)\n",
    "mouse_metadata.head()"
   ]
  },
  {
   "cell_type": "code",
   "execution_count": null,
   "metadata": {},
   "outputs": [],
   "source": [
    "print(study_results.shape)\n",
    "study_results.head()"
   ]
  },
  {
   "cell_type": "code",
   "execution_count": null,
   "metadata": {},
   "outputs": [],
   "source": []
  },
  {
   "cell_type": "code",
   "execution_count": null,
   "metadata": {},
   "outputs": [],
   "source": [
    "print(df.shape)\n",
    "df.info()"
   ]
  },
  {
   "cell_type": "code",
   "execution_count": null,
   "metadata": {},
   "outputs": [],
   "source": [
    "# Checking the number of mice.\n",
    "df[\"Mouse ID\"].nunique()"
   ]
  },
  {
   "cell_type": "code",
   "execution_count": null,
   "metadata": {},
   "outputs": [],
   "source": [
    "# Our data should be uniquely identified by Mouse ID and Timepoint\n",
    "# Get the duplicate mice by ID number that shows up for Mouse ID and Timepoint. \n",
    "df.groupby([\"Mouse ID\", \"Timepoint\"]).size().sort_values(ascending=False).head(10)"
   ]
  },
  {
   "cell_type": "code",
   "execution_count": null,
   "metadata": {},
   "outputs": [],
   "source": [
    "# Optional: Get all the data for the duplicate mouse ID. \n",
    "mask = df[\"Mouse ID\"] == \"g989\"\n",
    "df.loc[mask]"
   ]
  },
  {
   "cell_type": "code",
   "execution_count": null,
   "metadata": {},
   "outputs": [],
   "source": [
    "# Create a clean DataFrame by dropping the duplicate mouse by its ID.\n",
    "mask = df[\"Mouse ID\"] != \"g989\"\n",
    "df2 = df.loc[mask].reset_index(drop=True)\n",
    "df2.shape"
   ]
  },
  {
   "cell_type": "code",
   "execution_count": null,
   "metadata": {},
   "outputs": [],
   "source": [
    "# Checking the number of mice in the clean DataFrame.\n",
    "df2[\"Mouse ID\"].nunique()"
   ]
  },
  {
   "cell_type": "markdown",
   "metadata": {},
   "source": [
    "## Summary Statistics"
   ]
  },
  {
   "cell_type": "code",
   "execution_count": null,
   "metadata": {},
   "outputs": [],
   "source": [
    "# Generate a summary statistics table of mean, median, variance, standard deviation, and SEM of the tumor volume for each regimen\n",
    "\n",
    "# Use groupby and summary statistical methods to calculate the following properties of each drug regimen: \n",
    "# mean, median, variance, standard deviation, and SEM of the tumor volume. \n",
    "# Assemble the resulting series into a single summary DataFrame.\n",
    "\n",
    "tumor_mean = df2.groupby([\"Drug Regimen\"])[\"Tumor Volume (mm3)\"].mean()\n",
    "tumor_median = df2.groupby([\"Drug Regimen\"])[\"Tumor Volume (mm3)\"].median()\n",
    "tumor_sem = df2.groupby([\"Drug Regimen\"])[\"Tumor Volume (mm3)\"].sem()\n",
    "tumor_std = df2.groupby([\"Drug Regimen\"])[\"Tumor Volume (mm3)\"].std()\n",
    "tumor_var = df2.groupby([\"Drug Regimen\"])[\"Tumor Volume (mm3)\"].var()\n",
    "\n",
    "data = {\n",
    "    \"Tumor Average\": tumor_mean,\n",
    "    \"Tumor Median\": tumor_median,\n",
    "    \"Tumor SEM\": tumor_sem,\n",
    "    \"Tumor STD\": tumor_std,\n",
    "    \"Tumor Var\": tumor_var\n",
    "}\n",
    "\n",
    "leaderboard = pd.DataFrame(data).reset_index()\n",
    "leaderboard"
   ]
  },
  {
   "cell_type": "code",
   "execution_count": null,
   "metadata": {},
   "outputs": [],
   "source": [
    "# A more advanced method to generate a summary statistics table of mean, median, variance, standard deviation,\n",
    "# and SEM of the tumor volume for each regimen (only one method is required in the solution)\n",
    "\n",
    "# Using the aggregation method, produce the same summary statistics in a single line\n",
    "cols_agg = {\n",
    "    \"Tumor Volume (mm3)\": [\"mean\", \"median\", \"var\", \"std\", \"sem\"]\n",
    "}\n",
    "leaderboard2 = df2.groupby([\"Drug Regimen\"]).agg(cols_agg).reset_index()\n",
    "leaderboard2"
   ]
  },
  {
   "cell_type": "markdown",
   "metadata": {},
   "source": [
    "## Bar and Pie Charts"
   ]
  },
  {
   "cell_type": "code",
   "execution_count": null,
   "metadata": {},
   "outputs": [],
   "source": [
    "# Generate a bar plot showing the total number of rows (Mouse ID/Timepoints) for each drug regimen using Pandas.\n",
    "df2[\"Drug Regimen\"].value_counts().sort_values().plot(kind=\"barh\", title=\"Drug Regimen Counts\", color=\"limegreen\")\n",
    "plt.show()"
   ]
  },
  {
   "cell_type": "code",
   "execution_count": null,
   "metadata": {},
   "outputs": [],
   "source": [
    "# Generate a bar plot showing the total number of rows (Mouse ID/Timepoints) for each drug regimen using pyplot.\n",
    "data = df2[\"Drug Regimen\"].value_counts()\n",
    "x = data.index.values\n",
    "y = data.values\n",
    "\n",
    "\n",
    "# make the plot\n",
    "# df2[\"Drug Regimen\"].value_counts().sort_values().plot(kind=\"barh\", title=\"Drug Regimen Counts\", color=\"limegreen\")\n",
    "plt.bar(x, y)\n",
    "\n",
    "plt.xlabel(\"Drug Regimen\")\n",
    "plt.ylabel(\"Mouse Timepoint\")\n",
    "plt.xticks(rotation=90)\n",
    "plt.show()\n"
   ]
  },
  {
   "cell_type": "code",
   "execution_count": null,
   "metadata": {},
   "outputs": [],
   "source": [
    "# Generate a pie plot showing the distribution of female versus male mice using Pandas\n",
    "data = df2[\"Sex\"].value_counts()\n",
    "colors = ['purple', 'gold']\n",
    "data.plot(kind = \"pie\", autopct='%1.1f%%', colors=colors)"
   ]
  },
  {
   "cell_type": "code",
   "execution_count": null,
   "metadata": {},
   "outputs": [],
   "source": []
  },
  {
   "cell_type": "code",
   "execution_count": null,
   "metadata": {},
   "outputs": [],
   "source": [
    "# Generate a pie plot showing the distribution of female versus male mice using pyplot\n",
    "data = df2[\"Sex\"].value_counts()\n",
    "colors = ['green', 'blue']\n",
    "plt.pie(data, autopct='%1.1f%%', labels=data.index.values, colors=colors)\n",
    "plt.ylabel(\"Sex\")"
   ]
  },
  {
   "cell_type": "markdown",
   "metadata": {},
   "source": [
    "## Quartiles, Outliers and Boxplots"
   ]
  },
  {
   "cell_type": "code",
   "execution_count": null,
   "metadata": {},
   "outputs": [],
   "source": [
    "import seaborn as sns"
   ]
  },
  {
   "cell_type": "code",
   "execution_count": null,
   "metadata": {},
   "outputs": [],
   "source": [
    "sns.boxplot(data=df2, x=\"Drug Regimen\", y=\"Tumor Volume (mm3)\")\n",
    "plt.xticks(rotation=90)"
   ]
  },
  {
   "cell_type": "code",
   "execution_count": null,
   "metadata": {},
   "outputs": [],
   "source": [
    "sns.violinplot(data=df2, x=\"Drug Regimen\", y=\"Tumor Volume (mm3)\", hue=\"Sex\", split=True)\n",
    "plt.xticks(rotation=90)\n",
    "plt.show()"
   ]
  },
  {
   "cell_type": "code",
   "execution_count": null,
   "metadata": {},
   "outputs": [],
   "source": [
    "# Calculate the final tumor volume of each mouse across four of the treatment regimens:  \n",
    "# Capomulin, Ramicane, Infubinol, and Ceftamin\n",
    "\n",
    "# Start by getting the last (greatest) timepoint for each mouse\n",
    "\n",
    "\n",
    "# Merge this group df with the original DataFrame to get the tumor volume at the last timepoint\n"
   ]
  },
  {
   "cell_type": "code",
   "execution_count": null,
   "metadata": {},
   "outputs": [],
   "source": [
    "df3 = df2.groupby(\"Mouse ID\").Timepoint.max().reset_index()\n",
    "sub = df2.loc[:,[\"Mouse ID\", \"Timepoint\", \"Drug Regimen\", \"Tumor Volume (mm3)\",\"Sex\"]] # subsetting columns\n",
    "\n",
    "df3 = pd.merge(df3, sub, on=[\"Mouse ID\", \"Timepoint\"])\n",
    "\n",
    "mask = df3[\"Drug Regimen\"].isin([\"Capomulin\", \"Ramicane\", \"Infubinol\", \"Ceftamin\"])\n",
    "df3 = df3.loc[mask].reset_index(drop=True) # dropped rows\n",
    "\n",
    "df3"
   ]
  },
  {
   "cell_type": "code",
   "execution_count": null,
   "metadata": {},
   "outputs": [],
   "source": []
  },
  {
   "cell_type": "code",
   "execution_count": null,
   "metadata": {},
   "outputs": [],
   "source": [
    "# Put treatments into a list for for loop (and later for plot labels)\n",
    "\n",
    "\n",
    "# Create empty list to fill with tumor vol data (for plotting)\n",
    "\n",
    "\n",
    "# Calculate the IQR and quantitatively determine if there are any potential outliers. \n",
    "\n",
    "    \n",
    "    # Locate the rows which contain mice on each drug and get the tumor volumes\n",
    "\n",
    "    \n",
    "    # add subset \n",
    "\n",
    "    \n",
    "    # Determine outliers using upper and lower bounds\n"
   ]
  },
  {
   "cell_type": "code",
   "execution_count": null,
   "metadata": {},
   "outputs": [],
   "source": [
    "# Generate a box plot that shows the distrubution of the tumor volume for each treatment group.\n",
    "sns.boxplot(data=df3, x=\"Drug Regimen\", y=\"Tumor Volume (mm3)\")\n",
    "plt.title(\"Final Tumor Volume per Drug\")\n",
    "plt.show()"
   ]
  },
  {
   "cell_type": "markdown",
   "metadata": {},
   "source": [
    "## Line and Scatter Plots"
   ]
  },
  {
   "cell_type": "code",
   "execution_count": null,
   "metadata": {},
   "outputs": [],
   "source": [
    "# Generate a line plot of tumor volume vs. time point for a single mouse treated with Capomulin\n",
    "df2.loc[df2[\"Drug Regimen\"] == \"Capomulin\"]\n",
    "\n",
    "mouse = \"s185\"\n",
    "\n",
    "data = df2.loc[df2[\"Mouse ID\"] == mouse]\n",
    "\n",
    "# Step 1: Obtain data\n",
    "# x axis, \n",
    "time = data[\"Timepoint\"]\n",
    "y = data[\"Tumor Volume (mm3)\"]\n",
    "\n",
    "# Step 3:\n",
    "plt.plot(time, y, color=\"firebrick\", linewidth=3, marker=\"o\", markersize=10)\n",
    "\n",
    "# Step 4:\n",
    "plt.xlabel(\"Time (days)\", fontsize=12, fontstyle=\"italic\")\n",
    "plt.ylabel(\"Tumor Volume (mm3)\", fontsize=12, fontstyle=\"italic\")\n",
    "plt.title(f\"Tumor Volume vs Time for {mouse}\", fontsize=16, fontweight=\"bold\")\n",
    "\n",
    "plt.grid(color=\"lightgrey\", linestyle=\"--\", alpha=0.5)\n",
    "\n",
    "# Step 5: Display graph\n",
    "plt.show"
   ]
  },
  {
   "cell_type": "code",
   "execution_count": null,
   "metadata": {},
   "outputs": [],
   "source": [
    "# Generate a scatter plot of mouse weight vs. the average observed tumor volume for the entire Capomulin regimen\n",
    "data = df2.loc[df2[\"Drug Regimen\"] == \"Capomulin\"]\n",
    "\n",
    "df4 = data.groupby(\"Mouse ID\").agg({\"Weight (g)\": \"mean\", \"Tumor Volume (mm3)\": \"mean\"}).reset_index()\n",
    "\n",
    "x = df4[\"Weight (g)\"]\n",
    "y = df4[\"Tumor Volume (mm3)\"]\n",
    "\n",
    "plt.figure(figsize=(10, 6))\n",
    "\n",
    "plt.scatter(x, y, facecolor=\"limegreen\", edgecolor=\"purple\", s=250)\n",
    "\n",
    "# Customizations\n",
    "plt.xlabel(\"Weight (g)\", fontsize=12, fontstyle=\"italic\")\n",
    "plt.ylabel(\"Tumor Volume (mm3)\", fontsize=12, fontstyle=\"italic\")\n",
    "plt.title(\"Weight vs Tumor for Capomulin\", fontweight=\"bold\", fontsize=16)\n",
    "\n",
    "# plt.xlim(10, 27)\n",
    "# plt.ylim(0, 250)\n",
    "\n",
    "plt.grid(color=\"lightgrey\", linestyle = \"--\", alpha=0.5)\n",
    "\n",
    "plt.show()"
   ]
  },
  {
   "cell_type": "markdown",
   "metadata": {},
   "source": [
    "## Correlation and Regression"
   ]
  },
  {
   "cell_type": "code",
   "execution_count": null,
   "metadata": {},
   "outputs": [],
   "source": [
    "# Calculate the correlation coefficient and a linear regression model \n",
    "# for mouse weight and average observed tumor volume for the entire Capomulin regimen\n",
    "\n",
    "\n",
    "from scipy.stats import linregress\n",
    "from sklearn.linear_model import LinearRegression\n",
    "from sklearn.metrics import r2_score\n",
    "\n"
   ]
  },
  {
   "cell_type": "code",
   "execution_count": null,
   "metadata": {},
   "outputs": [],
   "source": [
    "corrs = df4.corr(numeric_only = True)\n",
    "\n",
    "corrs"
   ]
  },
  {
   "cell_type": "code",
   "execution_count": null,
   "metadata": {},
   "outputs": [],
   "source": [
    ".84 ** 2"
   ]
  },
  {
   "cell_type": "code",
   "execution_count": null,
   "metadata": {},
   "outputs": [],
   "source": [
    "# Using Linregress\n",
    "x_values = df4[\"Weight (g)\"]\n",
    "y_values = df4[\"Tumor Volume (mm3)\"]\n",
    "\n",
    "# make the line of best fit\n",
    "(slope, intercept, rvalue, pvalue, stderr) = linregress(x_values, y_values)\n",
    "regress_values = x_values * slope + intercept\n",
    "line_eq = \"y = \" + str(round(slope,2)) + \"x + \" + str(round(intercept,2))\n",
    "\n",
    "# Make canvas\n",
    "plt.figure(figsize=(10, 6))\n",
    "\n",
    "# Make the basic plot\n",
    "plt.scatter(x_values, y_values, facecolor=\"magenta\", edgecolor=\"black\", s=100)\n",
    "plt.plot(x_values, regress_values, \"r-\") \n",
    "\n",
    "# Customizations\n",
    "plt.xlabel(\"Weight (g)\", fontsize=12, fontstyle=\"italic\")\n",
    "plt.ylabel(\"Tumor Volume (mm3)\", fontsize=12, fontstyle=\"italic\")\n",
    "plt.title(\"Weight vs Tumor for Capomulin\", fontweight=\"bold\", fontsize=16)\n",
    "plt.grid(color=\"lightgrey\", linestyle = \"--\", alpha=0.5)\n",
    "\n",
    "plt.annotate(line_eq,(22, 36),fontsize=15,color=\"magenta\")\n",
    "\n",
    "print(f\"The r-squared is: {rvalue**2}\")\n",
    "plt.show()\n",
    "\n",
    "\n",
    "\n",
    "\n",
    "\n"
   ]
  },
  {
   "cell_type": "code",
   "execution_count": null,
   "metadata": {},
   "outputs": [],
   "source": []
  }
 ],
 "metadata": {
  "anaconda-cloud": {},
  "kernelspec": {
   "display_name": "Python 3 (ipykernel)",
   "language": "python",
   "name": "python3"
  },
  "language_info": {
   "codemirror_mode": {
    "name": "ipython",
    "version": 3
   },
   "file_extension": ".py",
   "mimetype": "text/x-python",
   "name": "python",
   "nbconvert_exporter": "python",
   "pygments_lexer": "ipython3",
   "version": "3.10.14"
  }
 },
 "nbformat": 4,
 "nbformat_minor": 4
}
